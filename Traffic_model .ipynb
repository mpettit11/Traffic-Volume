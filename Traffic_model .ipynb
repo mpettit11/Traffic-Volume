{
 "cells": [
  {
   "cell_type": "code",
   "execution_count": 22,
   "metadata": {},
   "outputs": [
    {
     "name": "stderr",
     "output_type": "stream",
     "text": [
      "/Users/MattPettit/anaconda3/lib/python3.7/site-packages/ipykernel_launcher.py:17: DataConversionWarning: Data with input dtype int64, float64 were all converted to float64 by the scale function.\n"
     ]
    },
    {
     "name": "stdout",
     "output_type": "stream",
     "text": [
      "Train on 23619 samples, validate on 10123 samples\n",
      "Epoch 1/25\n",
      "23619/23619 [==============================] - 2s 104us/step - loss: 4854899.0231 - val_loss: 3856666.1783\n",
      "Epoch 2/25\n",
      "23619/23619 [==============================] - 1s 60us/step - loss: 3864792.5746 - val_loss: 3816548.1152\n",
      "Epoch 3/25\n",
      "23619/23619 [==============================] - 1s 59us/step - loss: 3823672.5682 - val_loss: 3754666.0731\n",
      "Epoch 4/25\n",
      "23619/23619 [==============================] - 1s 58us/step - loss: 3804076.1151 - val_loss: 3767448.5443\n",
      "Epoch 5/25\n",
      "23619/23619 [==============================] - 1s 57us/step - loss: 3798540.5697 - val_loss: 3736072.3276\n",
      "Epoch 6/25\n",
      "23619/23619 [==============================] - 1s 56us/step - loss: 3804965.6338 - val_loss: 3759617.1568\n",
      "Epoch 7/25\n",
      "23619/23619 [==============================] - 1s 59us/step - loss: 3789556.4194 - val_loss: 3724062.7791\n",
      "Epoch 8/25\n",
      "23619/23619 [==============================] - 1s 62us/step - loss: 3778007.2036 - val_loss: 3844242.2575\n",
      "Epoch 9/25\n",
      "23619/23619 [==============================] - 1s 60us/step - loss: 3788671.5925 - val_loss: 3722856.6766\n",
      "Epoch 10/25\n",
      "23619/23619 [==============================] - 1s 59us/step - loss: 3779328.2630 - val_loss: 3897846.5176\n",
      "Epoch 11/25\n",
      "23619/23619 [==============================] - 1s 57us/step - loss: 3782802.6925 - val_loss: 3741832.7012\n"
     ]
    },
    {
     "data": {
      "text/plain": [
       "<keras.callbacks.History at 0x1a3b196160>"
      ]
     },
     "execution_count": 22,
     "metadata": {},
     "output_type": "execute_result"
    }
   ],
   "source": [
    "import numpy as np\n",
    "import pandas as pd\n",
    "from keras.layers import Dense\n",
    "from keras.models import Sequential\n",
    "from keras.callbacks import EarlyStopping\n",
    "from sklearn.metrics import mean_squared_error\n",
    "from sklearn.pipeline import Pipeline\n",
    "from sklearn.preprocessing import scale\n",
    "from sklearn.model_selection import train_test_split\n",
    "\n",
    "Traffic_Data = pd.read_csv('/Users/MattPettit/Desktop/Metro_Interstate_Traffic_Volume.csv')\n",
    "Traffic_DF = pd.DataFrame(Traffic_Data)\n",
    "Traffic_DF = Traffic_DF.drop(columns=['date_time'])\n",
    "Traffic_DF_X = Traffic_DF.iloc[:,0:5]\n",
    "Traffic_DF_Y = Traffic_DF.iloc[:,5]\n",
    "\n",
    "traff_scale = scale(Traffic_DF_X)\n",
    "traff_scale_DF = pd.DataFrame(traff_scale)\n",
    "\n",
    "x = traff_scale_DF\n",
    "y = Traffic_DF_Y\n",
    "n_cols = x.shape[1]\n",
    "es_monitor = EarlyStopping(patience=2)\n",
    "x_train, x_test, y_train, y_test = train_test_split(x, y, test_size=.3)\n",
    "\n",
    "#Model build\n",
    "traff_model = Sequential()\n",
    "traff_model.add(Dense(75, activation='relu', input_shape=(n_cols,)))\n",
    "traff_model.add(Dense(75, activation='relu'))\n",
    "traff_model.add(Dense(75, activation='relu'))\n",
    "traff_model.add(Dense(75, activation='relu'))\n",
    "traff_model.add(Dense(1))\n",
    "\n",
    "traff_model.compile(optimizer='adam', loss='mean_squared_error')\n",
    "traff_model.fit(x_train, y_train, epochs=25, validation_split=.3, callbacks=[es_monitor])"
   ]
  },
  {
   "cell_type": "code",
   "execution_count": 24,
   "metadata": {},
   "outputs": [
    {
     "data": {
      "text/plain": [
       "5"
      ]
     },
     "execution_count": 24,
     "metadata": {},
     "output_type": "execute_result"
    }
   ],
   "source": [
    "traff_pred = traff_model.predict(x_test)\n",
    "rmse = np.sqrt(mean_squared_error(y_test, traff_pred))\n",
    "rmse"
   ]
  },
  {
   "cell_type": "code",
   "execution_count": null,
   "metadata": {},
   "outputs": [],
   "source": []
  }
 ],
 "metadata": {
  "kernelspec": {
   "display_name": "Python 3",
   "language": "python",
   "name": "python3"
  },
  "language_info": {
   "codemirror_mode": {
    "name": "ipython",
    "version": 3
   },
   "file_extension": ".py",
   "mimetype": "text/x-python",
   "name": "python",
   "nbconvert_exporter": "python",
   "pygments_lexer": "ipython3",
   "version": "3.7.3"
  }
 },
 "nbformat": 4,
 "nbformat_minor": 2
}
